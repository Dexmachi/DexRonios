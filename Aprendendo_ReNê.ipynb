{
 "cells": [
  {
   "metadata": {},
   "cell_type": "markdown",
   "source": [
    "# Introdução\n",
    "\n",
    "Iniciando com `https://victorzhou.com/blog/intro-to-neural-networks/`, o que é uma rede neural??\n",
    "É um conjunto de \"neurônios\", possuindo uma \"claridade\" cada, em que quando um é mais claro, mais probabilidade tem para ele ser o correto, sendo um grande \"jogo de adivinhação\".\n",
    "\n",
    "Tome este, por exemplo:\n",
    "\n",
    "\n",
    "<svg xmlns=\"http://www.w3.org/2000/svg\" width=\"600\" height=\"350\" viewBox=\"0 0 600 350\"><g transform=\"translate(0 -702.362)\"><text style=\"line-height:125%\" x=\"13.056\" y=\"766.122\" font-weight=\"400\" font-size=\"40\" font-family=\"sans-serif\" letter-spacing=\"0\" word-spacing=\"0\"><tspan x=\"13.056\" y=\"766.122\" font-size=\"30\">Inputs</tspan></text><text style=\"line-height:125%\" x=\"467\" y=\"766.122\" font-weight=\"400\" font-size=\"40\" font-family=\"sans-serif\" letter-spacing=\"0\" word-spacing=\"0\"><tspan x=\"467\" y=\"766.122\" font-size=\"30\">Output</tspan></text><path d=\"M206 944.362l-135 45M206 880.362l-135-45M400 912.362h100\" fill=\"none\" stroke=\"#000\" stroke-width=\"4\"/><text style=\"line-height:125%\" x=\"32.352\" y=\"832.362\" font-weight=\"400\" font-size=\"40\" font-family=\"sans-serif\" letter-spacing=\"0\" word-spacing=\"0\"><tspan x=\"32.352\" y=\"832.362\" font-size=\"22.5\">x<tspan font-size=\"65%\" baseline-shift=\"sub\">1</tspan></tspan></text><text y=\"1002.362\" x=\"32.352\" style=\"line-height:125%\" font-weight=\"400\" font-size=\"40\" font-family=\"sans-serif\" letter-spacing=\"0\" word-spacing=\"0\"><tspan y=\"1002.362\" x=\"32.352\" font-size=\"22.5\">x<tspan font-size=\"65%\" baseline-shift=\"sub\">2</tspan></tspan></text><text style=\"line-height:125%\" x=\"514.33\" y=\"916.682\" font-weight=\"400\" font-size=\"40\" font-family=\"sans-serif\" letter-spacing=\"0\" word-spacing=\"0\"><tspan x=\"514.33\" y=\"916.682\" font-size=\"22.5\">y</tspan></text><path d=\"M206 880.362l86 32-86 32M290 912.362h110\" fill=\"none\" stroke=\"#000\"/><path fill=\"#c80000\" stroke=\"#000\" d=\"M234 885.362h20v20h-20z\"/><g fill=\"none\" stroke=\"#fff\" stroke-width=\"2\"><path d=\"M240 899.362l8-8M248 899.362l-8-8\"/></g><path fill=\"#c80000\" stroke=\"#000\" d=\"M234 919.362h20v20h-20z\"/><g fill=\"none\" stroke=\"#fff\" stroke-width=\"2\"><path d=\"M240 933.362l8-8M248 933.362l-8-8\"/></g><path fill=\"#0f9640\" stroke=\"#000\" d=\"M290 902.362h20v20h-20z\"/><g fill=\"none\" stroke=\"#fff\" stroke-width=\"2\"><path d=\"M300 918.02v-11.315M305.657 912.362h-11.314\"/></g><path fill=\"#ff9600\" stroke=\"#000\" d=\"M342 902.362h20v20h-20z\"/><circle cx=\"300\" cy=\"912.362\" r=\"100\" fill=\"none\" stroke=\"#164bc5\" stroke-width=\"6\"/></g></svg>\n",
    "\n",
    "\n",
    "Algumas coisas estão acontecendo neste _Perceptron_\n",
    "\n",
    "Os inputs x1 e x2 estão sendo _multiplicados_ com um _Peso cada_.\n",
    "\n",
    "Em seguida _somados entre si_ e então _somados com um Bias_\n",
    "\n",
    "E, por fim, ela é passada por uma função de ativação, geralmente feita para comprimir todos os números da lista para um número entre 0 e 1 para formar uma porcentagem -normalmente, a função utilizada é a de _Sigmoid_-.\n",
    "\n",
    "Desta forma gerando uma ligação, ou output -que possívelmente vai se tornar um input para outro perceptron- e é isso que chamamos de um neurônio, o conjunto inteiro é um perceptron."
   ],
   "id": "6741f27570f4d3c"
  },
  {
   "metadata": {},
   "cell_type": "markdown",
   "source": "Pense em forma de Álgebra Linear!!!",
   "id": "ada44232d076b411"
  },
  {
   "metadata": {},
   "cell_type": "markdown",
   "source": "## Hora de codar um neurônio!!!",
   "id": "c2aa39c1cae1a947"
  },
  {
   "metadata": {
    "ExecuteTime": {
     "end_time": "2025-02-17T22:26:15.427710Z",
     "start_time": "2025-02-17T22:26:15.299569Z"
    }
   },
   "cell_type": "code",
   "source": [
    "# IMPORTAÇÕES\n",
    "import numpy as np"
   ],
   "id": "abc1ea4c9de792ec",
   "outputs": [],
   "execution_count": 2
  },
  {
   "metadata": {
    "ExecuteTime": {
     "end_time": "2025-02-17T22:26:16.081459Z",
     "start_time": "2025-02-17T22:26:16.075256Z"
    }
   },
   "cell_type": "code",
   "source": [
    "# Matemática!!\n",
    "def sigmoid(x):\n",
    "    return 1 / (1 + np.exp(-x)) # f(x)= 1/(1+e^(-x))"
   ],
   "id": "2227ef30542f99ec",
   "outputs": [],
   "execution_count": 3
  },
  {
   "metadata": {
    "ExecuteTime": {
     "end_time": "2025-02-17T22:26:17.227145Z",
     "start_time": "2025-02-17T22:26:17.218773Z"
    }
   },
   "cell_type": "code",
   "source": [
    "class Neuron:\n",
    "    def __init__(self, weights, bias):\n",
    "        self.weights = weights\n",
    "        self.bias = bias\n",
    "\n",
    "    def feedforward(self, inputs):\n",
    "        # input de Pesos, adição de Bias e ativação da função\n",
    "        total = np.dot(self.weights, inputs) + self.bias # Dot=multiplicação de vetores\n",
    "        return sigmoid(total)\n",
    "\n",
    "weights = np.array([0,1]) #w1=0, w2=1\n",
    "bias = 4\n",
    "n = Neuron(weights, bias)\n",
    "\n",
    "\n",
    "x=np.array([2,3]) #x1=2,x2=3\n",
    "print(n.feedforward(x))"
   ],
   "id": "97221af887aceb55",
   "outputs": [
    {
     "name": "stdout",
     "output_type": "stream",
     "text": [
      "0.9990889488055994\n"
     ]
    }
   ],
   "execution_count": 4
  },
  {
   "metadata": {},
   "cell_type": "markdown",
   "source": [
    "# Combinando neurônios em uma rede Neural\n",
    "\n",
    "Isso parece dificil, mas são só conexões entre neurônios. já temos os inputs e outputs, é só fazer a boa\n",
    "\n",
    "Ele se parece mais ou menos assim:\n",
    "\n",
    "<svg xmlns=\"http://www.w3.org/2000/svg\" width=\"550\" height=\"250\" viewBox=\"0 0 550 250\"><g transform=\"translate(0 -802.362)\"><path d=\"M290 907.362l160 50-160 50\" fill=\"none\" stroke=\"#000\" stroke-width=\"2\"/><circle r=\"20\" cy=\"957.362\" cx=\"470\" fill=\"#164bc5\"/><text style=\"line-height:125%\" x=\"464.717\" y=\"838.202\" font-weight=\"400\" font-size=\"40\" font-family=\"sans-serif\" letter-spacing=\"0\" word-spacing=\"0\"><tspan x=\"464.717\" y=\"838.202\" style=\"text-align:center\" font-size=\"20\" text-anchor=\"middle\">Output Layer</tspan></text><text y=\"838.202\" x=\"274.58\" style=\"line-height:125%;text-align:center\" font-weight=\"400\" font-size=\"40\" font-family=\"sans-serif\" letter-spacing=\"0\" word-spacing=\"0\" text-anchor=\"middle\"><tspan style=\"text-align:center\" y=\"838.202\" x=\"274.58\" font-size=\"20\">Hidden Layer</tspan></text><text style=\"line-height:125%;text-align:center\" x=\"74.58\" y=\"838.202\" font-weight=\"400\" font-size=\"40\" font-family=\"sans-serif\" letter-spacing=\"0\" word-spacing=\"0\" text-anchor=\"middle\"><tspan x=\"74.58\" y=\"838.202\" style=\"text-align:center\" font-size=\"20\">Input Layer</tspan></text><text style=\"line-height:125%\" x=\"63.496\" y=\"911.862\" font-weight=\"400\" font-size=\"40\" font-family=\"sans-serif\" letter-spacing=\"0\" word-spacing=\"0\"><tspan x=\"63.496\" y=\"911.862\" font-size=\"17.5\">x<tspan font-size=\"65%\" baseline-shift=\"sub\">1</tspan></tspan></text><text y=\"1011.862\" x=\"63.496\" style=\"line-height:125%\" font-weight=\"400\" font-size=\"40\" font-family=\"sans-serif\" letter-spacing=\"0\" word-spacing=\"0\"><tspan y=\"1011.862\" x=\"63.496\" font-size=\"17.5\">x<tspan font-size=\"65%\" baseline-shift=\"sub\">2</tspan></tspan></text><path d=\"M90 907.362h160M90 1007.362h160M90 907.362l160 100M90 1007.362l160-100\" fill=\"none\" stroke=\"#000\" stroke-width=\"2\"/><circle cx=\"70\" cy=\"1007.362\" r=\"20\" fill=\"none\" stroke=\"#000\" stroke-width=\"2\"/><circle r=\"20\" cy=\"907.362\" cx=\"70\" fill=\"none\" stroke=\"#000\" stroke-width=\"2\"/><circle r=\"20\" cy=\"1007.362\" cx=\"270\" fill=\"#164bc5\"/><circle cx=\"270\" cy=\"907.362\" r=\"20\" fill=\"#164bc5\"/><text y=\"911.862\" x=\"263.496\" style=\"line-height:125%\" font-weight=\"400\" font-size=\"40\" font-family=\"sans-serif\" letter-spacing=\"0\" word-spacing=\"0\" fill=\"#fff\"><tspan y=\"911.862\" x=\"263.496\" font-size=\"17.5\">h<tspan font-size=\"65%\" baseline-shift=\"sub\">1</tspan></tspan></text><text style=\"line-height:125%\" x=\"263.496\" y=\"1011.862\" font-weight=\"400\" font-size=\"40\" font-family=\"sans-serif\" letter-spacing=\"0\" word-spacing=\"0\" fill=\"#fff\"><tspan x=\"263.496\" y=\"1011.862\" font-size=\"17.5\">h<tspan font-size=\"65%\" baseline-shift=\"sub\">2</tspan></tspan></text><text y=\"961.862\" x=\"463.496\" style=\"line-height:125%\" font-weight=\"400\" font-size=\"40\" font-family=\"sans-serif\" letter-spacing=\"0\" word-spacing=\"0\" fill=\"#fff\"><tspan y=\"961.862\" x=\"463.496\" font-size=\"17.5\">o<tspan font-size=\"65%\" baseline-shift=\"sub\">1</tspan></tspan></text></g></svg>"
   ],
   "id": "8d9e2e05c472a286"
  },
  {
   "metadata": {
    "ExecuteTime": {
     "end_time": "2025-02-17T22:26:20.610761Z",
     "start_time": "2025-02-17T22:26:20.597634Z"
    }
   },
   "cell_type": "code",
   "source": [
    "class Neuron:\n",
    "    def __init__(self, weights, bias):\n",
    "        self.weights = weights\n",
    "        self.bias = bias\n",
    "\n",
    "    def feedforward(self, inputs):\n",
    "        # input de Pesos, adição de Bias e ativação da função\n",
    "        total = np.dot(self.weights, inputs) + self.bias # Dot=multiplicação de vetores\n",
    "        return sigmoid(total)\n",
    "\n",
    "class ReNe_:\n",
    "    def __init__(self):\n",
    "        weights = np.array([0,1])\n",
    "        bias = 0\n",
    "\n",
    "        self.h1=Neuron(weights, bias)\n",
    "        self.h2=Neuron(weights, bias)\n",
    "        self.o1=Neuron(weights, bias)\n",
    "\n",
    "    def feedforward(self, x):\n",
    "        out_h1=self.h1.feedforward(x)\n",
    "        out_h2=self.h2.feedforward(x)\n",
    "\n",
    "        out_o1=self.o1.feedforward(np.array([out_h1,out_h2]))\n",
    "\n",
    "        return out_o1\n",
    "\n",
    "rede=ReNe_()\n",
    "x = np.array([2,3])\n",
    "print(rede.feedforward(x))"
   ],
   "id": "c78035914563ef8f",
   "outputs": [
    {
     "name": "stdout",
     "output_type": "stream",
     "text": [
      "0.7216325609518421\n"
     ]
    }
   ],
   "execution_count": 5
  },
  {
   "metadata": {},
   "cell_type": "markdown",
   "source": [
    "# E o que caralhos tá acontecendo aqui, em nome de cristo???\n",
    "\n",
    "Perceba: h1 está recebendo o resultado de Neuron com os pesos e bias colocados em classe e depois aplicando a fórmula de feedforward para passar a conversão dele para O1, que está recebendo tanto dele, quanto de h2.\n",
    "\n",
    "h1 = hidden layer 1\n",
    "o1 = output 1"
   ],
   "id": "7b56c15102a06130"
  },
  {
   "metadata": {},
   "cell_type": "code",
   "outputs": [],
   "execution_count": null,
   "source": "",
   "id": "24f0afc9becdc265"
  }
 ],
 "metadata": {
  "kernelspec": {
   "display_name": "Python 3",
   "language": "python",
   "name": "python3"
  },
  "language_info": {
   "codemirror_mode": {
    "name": "ipython",
    "version": 2
   },
   "file_extension": ".py",
   "mimetype": "text/x-python",
   "name": "python",
   "nbconvert_exporter": "python",
   "pygments_lexer": "ipython2",
   "version": "2.7.6"
  }
 },
 "nbformat": 4,
 "nbformat_minor": 5
}
